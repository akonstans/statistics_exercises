{
 "cells": [
  {
   "cell_type": "code",
   "execution_count": 1,
   "id": "ddfa5061",
   "metadata": {},
   "outputs": [],
   "source": [
    "import numpy as np\n",
    "import pandas as pd"
   ]
  },
  {
   "cell_type": "code",
   "execution_count": 2,
   "id": "bba47768",
   "metadata": {},
   "outputs": [
    {
     "data": {
      "text/html": [
       "<div>\n",
       "<style scoped>\n",
       "    .dataframe tbody tr th:only-of-type {\n",
       "        vertical-align: middle;\n",
       "    }\n",
       "\n",
       "    .dataframe tbody tr th {\n",
       "        vertical-align: top;\n",
       "    }\n",
       "\n",
       "    .dataframe thead th {\n",
       "        text-align: right;\n",
       "    }\n",
       "</style>\n",
       "<table border=\"1\" class=\"dataframe\">\n",
       "  <thead>\n",
       "    <tr style=\"text-align: right;\">\n",
       "      <th></th>\n",
       "      <th>die_1</th>\n",
       "      <th>die_2</th>\n",
       "    </tr>\n",
       "  </thead>\n",
       "  <tbody>\n",
       "    <tr>\n",
       "      <th>0</th>\n",
       "      <td>2</td>\n",
       "      <td>2</td>\n",
       "    </tr>\n",
       "    <tr>\n",
       "      <th>1</th>\n",
       "      <td>6</td>\n",
       "      <td>3</td>\n",
       "    </tr>\n",
       "    <tr>\n",
       "      <th>2</th>\n",
       "      <td>4</td>\n",
       "      <td>2</td>\n",
       "    </tr>\n",
       "    <tr>\n",
       "      <th>3</th>\n",
       "      <td>4</td>\n",
       "      <td>6</td>\n",
       "    </tr>\n",
       "    <tr>\n",
       "      <th>4</th>\n",
       "      <td>3</td>\n",
       "      <td>5</td>\n",
       "    </tr>\n",
       "    <tr>\n",
       "      <th>...</th>\n",
       "      <td>...</td>\n",
       "      <td>...</td>\n",
       "    </tr>\n",
       "    <tr>\n",
       "      <th>9995</th>\n",
       "      <td>2</td>\n",
       "      <td>3</td>\n",
       "    </tr>\n",
       "    <tr>\n",
       "      <th>9996</th>\n",
       "      <td>3</td>\n",
       "      <td>4</td>\n",
       "    </tr>\n",
       "    <tr>\n",
       "      <th>9997</th>\n",
       "      <td>1</td>\n",
       "      <td>2</td>\n",
       "    </tr>\n",
       "    <tr>\n",
       "      <th>9998</th>\n",
       "      <td>5</td>\n",
       "      <td>3</td>\n",
       "    </tr>\n",
       "    <tr>\n",
       "      <th>9999</th>\n",
       "      <td>2</td>\n",
       "      <td>4</td>\n",
       "    </tr>\n",
       "  </tbody>\n",
       "</table>\n",
       "<p>10000 rows × 2 columns</p>\n",
       "</div>"
      ],
      "text/plain": [
       "      die_1  die_2\n",
       "0         2      2\n",
       "1         6      3\n",
       "2         4      2\n",
       "3         4      6\n",
       "4         3      5\n",
       "...     ...    ...\n",
       "9995      2      3\n",
       "9996      3      4\n",
       "9997      1      2\n",
       "9998      5      3\n",
       "9999      2      4\n",
       "\n",
       "[10000 rows x 2 columns]"
      ]
     },
     "execution_count": 2,
     "metadata": {},
     "output_type": "execute_result"
    }
   ],
   "source": [
    "n_trials = nrows = 10000\n",
    "n_dice = ncols = 2\n",
    "\n",
    "rolls = np.random.choice([1, 2, 3, 4, 5, 6], n_trials * n_dice).reshape(nrows, ncols)\n",
    "rolls = pd.DataFrame(rolls, columns= ['die_1', 'die_2'])\n",
    "rolls"
   ]
  },
  {
   "cell_type": "code",
   "execution_count": 3,
   "id": "1fa5ba74",
   "metadata": {},
   "outputs": [],
   "source": [
    "rolls['doubles'] = rolls.die_1 == rolls.die_2\n",
    "dbl = rolls[rolls.doubles == True].doubles.count()"
   ]
  },
  {
   "cell_type": "code",
   "execution_count": 4,
   "id": "ce61bfd6",
   "metadata": {},
   "outputs": [
    {
     "data": {
      "text/plain": [
       "16.939999999999998"
      ]
     },
     "execution_count": 4,
     "metadata": {},
     "output_type": "execute_result"
    }
   ],
   "source": [
    "dbl/len(rolls)*100\n",
    "# around a 16 percent chance of rolling doubles"
   ]
  },
  {
   "cell_type": "code",
   "execution_count": 45,
   "id": "fee92c41",
   "metadata": {},
   "outputs": [
    {
     "data": {
      "text/plain": [
       "0.21867"
      ]
     },
     "execution_count": 45,
     "metadata": {},
     "output_type": "execute_result"
    }
   ],
   "source": [
    "p_heads = .5\n",
    "n_flips = 8\n",
    "n_tests = 10 ** 5\n",
    "flip = np.random.random((n_flips, n_tests))\n",
    "heads = flip > p_heads\n",
    "p = (heads.sum(axis = 0) == 3).mean()\n",
    "p\n",
    "# 22% chance of 3 exactly"
   ]
  },
  {
   "cell_type": "code",
   "execution_count": 6,
   "id": "d2f6d664",
   "metadata": {},
   "outputs": [
    {
     "data": {
      "text/plain": [
       "0.63568"
      ]
     },
     "execution_count": 6,
     "metadata": {},
     "output_type": "execute_result"
    }
   ],
   "source": [
    "p = (heads.sum(axis = 0) > 3).mean()\n",
    "p\n",
    "# 64% chance of more than 3"
   ]
  },
  {
   "cell_type": "code",
   "execution_count": 7,
   "id": "ac962bbe",
   "metadata": {},
   "outputs": [],
   "source": [
    "# Assumptions made for this question:\n",
    "# 1. There are an equal number of students per cohort\n",
    "# 2. The selection of students is completly at random"
   ]
  },
  {
   "cell_type": "code",
   "execution_count": 8,
   "id": "ca20ad06",
   "metadata": {},
   "outputs": [
    {
     "data": {
      "text/plain": [
       "0.06155"
      ]
     },
     "execution_count": 8,
     "metadata": {},
     "output_type": "execute_result"
    }
   ],
   "source": [
    "p_data = .25\n",
    "n_boards = 2\n",
    "n_tests = 10 ** 5\n",
    "board = np.random.random((n_boards, n_tests))\n",
    "ds = p_data >= board\n",
    "prob = (ds.sum(axis = 0) == 2).mean()\n",
    "prob\n",
    "# There is around a 6.21% chance that both boards have a data science student on them"
   ]
  },
  {
   "cell_type": "code",
   "execution_count": 9,
   "id": "d66987b7",
   "metadata": {
    "scrolled": true
   },
   "outputs": [
    {
     "data": {
      "text/plain": [
       "0.61656"
      ]
     },
     "execution_count": 9,
     "metadata": {},
     "output_type": "execute_result"
    }
   ],
   "source": [
    "pop_num = 17\n",
    "days = 5\n",
    "n_tests = 10 ** 5\n",
    "pop_per = np.random.normal(3, 1.5, size = (n_tests, days))\n",
    "pop_bought = pop_per.sum(axis =1)\n",
    "pop_yay = (pop_bought < (pop_num - 1)).mean()\n",
    "pop_yay\n",
    "# 61.95% chance that there are poptarts left"
   ]
  },
  {
   "cell_type": "code",
   "execution_count": 10,
   "id": "b5caea3c",
   "metadata": {},
   "outputs": [],
   "source": [
    "m_avg = 178\n",
    "m_std = 8\n",
    "f_avg = 170\n",
    "f_std = 6\n",
    "m_height = np.random.normal(m_avg, m_std, size = (n_tests,1))\n",
    "f_height = np.random.normal(f_avg, f_std, size = (n_tests,1))\n",
    "combo = np.concatenate((m_height, f_height),axis = 1)\n",
    "height_data = pd.DataFrame(combo, columns = ['male', 'female'])\n",
    "height_data['rand'] = height_data.female > height_data.male\n",
    "\n",
    "# You dont have to merge the arrays or make them into a dataframe to acomplish this"
   ]
  },
  {
   "cell_type": "code",
   "execution_count": 11,
   "id": "6126a3dc",
   "metadata": {},
   "outputs": [
    {
     "data": {
      "text/plain": [
       "0.21265"
      ]
     },
     "execution_count": 11,
     "metadata": {},
     "output_type": "execute_result"
    }
   ],
   "source": [
    "height_data[height_data['rand'] == 1].rand.sum()/n_tests\n",
    "# 21.4% chance the woman is taller than the man"
   ]
  },
  {
   "cell_type": "code",
   "execution_count": 12,
   "id": "6883cf92",
   "metadata": {},
   "outputs": [
    {
     "data": {
      "text/plain": [
       "0.81794"
      ]
     },
     "execution_count": 12,
     "metadata": {},
     "output_type": "execute_result"
    }
   ],
   "source": [
    "error = 1/250\n",
    "n_students = 50\n",
    "tests = np.random.random((n_students, n_tests))\n",
    "error_chance = tests <= error\n",
    "perc = (error_chance.sum(axis = 0) == 0).mean()\n",
    "perc"
   ]
  },
  {
   "cell_type": "code",
   "execution_count": 13,
   "id": "4abeb4cf",
   "metadata": {},
   "outputs": [
    {
     "data": {
      "text/plain": [
       "0.66984"
      ]
     },
     "execution_count": 13,
     "metadata": {},
     "output_type": "execute_result"
    }
   ],
   "source": [
    "error = 1/250\n",
    "n_students = 100\n",
    "tests = np.random.random((n_students, n_tests))\n",
    "error_chance = tests <= error\n",
    "perc = (error_chance.sum(axis = 0) == 0).mean()\n",
    "perc"
   ]
  },
  {
   "cell_type": "code",
   "execution_count": 14,
   "id": "718643ea",
   "metadata": {},
   "outputs": [
    {
     "data": {
      "text/plain": [
       "0.45364000000000004"
      ]
     },
     "execution_count": 14,
     "metadata": {},
     "output_type": "execute_result"
    }
   ],
   "source": [
    "error = 1/250\n",
    "n_students = 150\n",
    "tests = np.random.random((n_students, n_tests))\n",
    "error_chance = tests <= error\n",
    "perc = (error_chance.sum(axis = 0) == 0).mean()\n",
    "1-perc"
   ]
  },
  {
   "cell_type": "code",
   "execution_count": 15,
   "id": "00225d4e",
   "metadata": {},
   "outputs": [
    {
     "data": {
      "text/plain": [
       "0.16387"
      ]
     },
     "execution_count": 15,
     "metadata": {},
     "output_type": "execute_result"
    }
   ],
   "source": [
    "error = 1/250\n",
    "n_students = 450\n",
    "tests = np.random.random((n_students, n_tests))\n",
    "error_chance = tests <= error\n",
    "perc = (error_chance.sum(axis = 0) == 0).mean()\n",
    "perc"
   ]
  },
  {
   "cell_type": "code",
   "execution_count": 16,
   "id": "7054876e",
   "metadata": {},
   "outputs": [
    {
     "data": {
      "text/plain": [
       "0.02648"
      ]
     },
     "execution_count": 16,
     "metadata": {},
     "output_type": "execute_result"
    }
   ],
   "source": [
    "food = .7\n",
    "days = 3\n",
    "n_days = 4\n",
    "no_food = np.random.random((n_tests, days))\n",
    "nfts = no_food > food\n",
    "nft_fails = (nfts.sum(axis = 1) == 3).mean()\n",
    "nft_fails"
   ]
  },
  {
   "cell_type": "code",
   "execution_count": 17,
   "id": "87645566",
   "metadata": {},
   "outputs": [
    {
     "data": {
      "text/plain": [
       "0.99179"
      ]
     },
     "execution_count": 17,
     "metadata": {},
     "output_type": "execute_result"
    }
   ],
   "source": [
    "food_here = np.random.random((n_tests, n_days))\n",
    "foods = food_here <= food\n",
    "yay_food = (foods.sum(axis = 1) >= 1).mean()\n",
    "yay_food"
   ]
  },
  {
   "cell_type": "code",
   "execution_count": 18,
   "id": "d7dfdb21",
   "metadata": {},
   "outputs": [
    {
     "data": {
      "text/plain": [
       "0.027"
      ]
     },
     "execution_count": 18,
     "metadata": {},
     "output_type": "execute_result"
    }
   ],
   "source": [
    ".3 * .3 * .3"
   ]
  },
  {
   "cell_type": "code",
   "execution_count": 19,
   "id": "3a9cc389",
   "metadata": {},
   "outputs": [
    {
     "data": {
      "text/plain": [
       "0.49983"
      ]
     },
     "execution_count": 19,
     "metadata": {},
     "output_type": "execute_result"
    }
   ],
   "source": [
    "n_people = int(23*(23-1)/2)\n",
    "bday = 1/365\n",
    "share = np.random.random((n_tests, n_people))\n",
    "share_chance = share <= bday\n",
    "bshare = (share_chance.sum(axis = 1) >=1).mean()\n",
    "bshare"
   ]
  },
  {
   "cell_type": "code",
   "execution_count": 20,
   "id": "ff12d416",
   "metadata": {},
   "outputs": [
    {
     "data": {
      "text/plain": [
       "5550"
      ]
     },
     "execution_count": 20,
     "metadata": {},
     "output_type": "execute_result"
    }
   ],
   "source": [
    "75*74"
   ]
  },
  {
   "cell_type": "code",
   "execution_count": 21,
   "id": "b875f958",
   "metadata": {},
   "outputs": [
    {
     "data": {
      "text/plain": [
       "0.40426"
      ]
     },
     "execution_count": 21,
     "metadata": {},
     "output_type": "execute_result"
    }
   ],
   "source": [
    "n_people = int(20*(20-1)/2)\n",
    "bday = 1/365\n",
    "share = np.random.random((n_tests, n_people))\n",
    "share_chance = share <= bday\n",
    "bshare = (share_chance.sum(axis = 1) >=1).mean()\n",
    "bshare"
   ]
  },
  {
   "cell_type": "code",
   "execution_count": 22,
   "id": "7c83b8d1",
   "metadata": {},
   "outputs": [
    {
     "data": {
      "text/plain": [
       "0.99938"
      ]
     },
     "execution_count": 22,
     "metadata": {},
     "output_type": "execute_result"
    }
   ],
   "source": [
    "n_people = int(75*(75-1)/2)\n",
    "bday = 1/365\n",
    "share = np.random.random((n_tests, n_people))\n",
    "share_chance = share <= bday\n",
    "bshare = (share_chance.sum(axis = 1) >=1).mean()\n",
    "bshare\n",
    "# 75 people is an almost guaranteed chance that at least 2 people share a bday"
   ]
  },
  {
   "cell_type": "code",
   "execution_count": 23,
   "id": "1d752de7",
   "metadata": {},
   "outputs": [
    {
     "data": {
      "text/plain": [
       "7.602739726027397"
      ]
     },
     "execution_count": 23,
     "metadata": {},
     "output_type": "execute_result"
    }
   ],
   "source": [
    "75*74/2/365"
   ]
  },
  {
   "cell_type": "code",
   "execution_count": 24,
   "id": "63007f0c",
   "metadata": {},
   "outputs": [
    {
     "data": {
      "text/plain": [
       "0.7853981633974483"
      ]
     },
     "execution_count": 24,
     "metadata": {},
     "output_type": "execute_result"
    }
   ],
   "source": [
    "area = np.pi*.5**2\n",
    "area/1"
   ]
  },
  {
   "cell_type": "code",
   "execution_count": 25,
   "id": "cd19f684",
   "metadata": {},
   "outputs": [
    {
     "data": {
      "text/plain": [
       "0.78611"
      ]
     },
     "execution_count": 25,
     "metadata": {},
     "output_type": "execute_result"
    }
   ],
   "source": [
    "chance = np.random.random((n_tests))\n",
    "point_chance = area >= chance\n",
    "overall = point_chance.mean()\n",
    "overall"
   ]
  },
  {
   "cell_type": "code",
   "execution_count": 26,
   "id": "43273225",
   "metadata": {},
   "outputs": [],
   "source": [
    "mage_tests = 10000\n",
    "h1dice = 6\n",
    "h2dice = 4"
   ]
  },
  {
   "cell_type": "code",
   "execution_count": 27,
   "id": "af18fdb7",
   "metadata": {},
   "outputs": [
    {
     "data": {
      "text/plain": [
       "array([19, 20, 10, ..., 18, 18, 14])"
      ]
     },
     "execution_count": 27,
     "metadata": {},
     "output_type": "execute_result"
    }
   ],
   "source": [
    "h1 = np.random.choice([1,2,3,4], mage_tests * h1dice).reshape(mage_tests, h1dice)\n",
    "m1pow = h1.sum(axis = 1)\n",
    "m1pow"
   ]
  },
  {
   "cell_type": "code",
   "execution_count": 28,
   "id": "61eeec75",
   "metadata": {},
   "outputs": [
    {
     "data": {
      "text/plain": [
       "array([ 9, 15, 18, ..., 13, 15, 12])"
      ]
     },
     "execution_count": 28,
     "metadata": {},
     "output_type": "execute_result"
    }
   ],
   "source": [
    "h2 = np.random.choice([1,2,3,4,5,6], mage_tests * h2dice).reshape(mage_tests, h2dice)\n",
    "m2pow = h2.sum(axis = 1)\n",
    "m2pow"
   ]
  },
  {
   "cell_type": "code",
   "execution_count": 29,
   "id": "f8408a49",
   "metadata": {},
   "outputs": [
    {
     "data": {
      "text/plain": [
       "array([19, 20, 10, ..., 13, 15, 12])"
      ]
     },
     "execution_count": 29,
     "metadata": {},
     "output_type": "execute_result"
    }
   ],
   "source": [
    "big_array = np.concatenate([m1pow,m2pow])\n",
    "big_array"
   ]
  },
  {
   "cell_type": "code",
   "execution_count": 30,
   "id": "9945237e",
   "metadata": {},
   "outputs": [],
   "source": [
    "mage_duel = pd.DataFrame([m1pow,m2pow]).T"
   ]
  },
  {
   "cell_type": "code",
   "execution_count": 31,
   "id": "2d54ebc6",
   "metadata": {},
   "outputs": [],
   "source": [
    "mage_duel = mage_duel.rename(columns = {0 : 'mage1', 1 : 'mage2'})"
   ]
  },
  {
   "cell_type": "code",
   "execution_count": 32,
   "id": "3055d775",
   "metadata": {},
   "outputs": [],
   "source": [
    "mage_duel['duel_result'] = mage_duel.mage1 - mage_duel.mage2"
   ]
  },
  {
   "cell_type": "code",
   "execution_count": 33,
   "id": "44617dca",
   "metadata": {},
   "outputs": [
    {
     "data": {
      "text/html": [
       "<div>\n",
       "<style scoped>\n",
       "    .dataframe tbody tr th:only-of-type {\n",
       "        vertical-align: middle;\n",
       "    }\n",
       "\n",
       "    .dataframe tbody tr th {\n",
       "        vertical-align: top;\n",
       "    }\n",
       "\n",
       "    .dataframe thead th {\n",
       "        text-align: right;\n",
       "    }\n",
       "</style>\n",
       "<table border=\"1\" class=\"dataframe\">\n",
       "  <thead>\n",
       "    <tr style=\"text-align: right;\">\n",
       "      <th></th>\n",
       "      <th>mage1</th>\n",
       "      <th>mage2</th>\n",
       "      <th>duel_result</th>\n",
       "    </tr>\n",
       "  </thead>\n",
       "  <tbody>\n",
       "    <tr>\n",
       "      <th>0</th>\n",
       "      <td>19</td>\n",
       "      <td>9</td>\n",
       "      <td>10</td>\n",
       "    </tr>\n",
       "    <tr>\n",
       "      <th>1</th>\n",
       "      <td>20</td>\n",
       "      <td>15</td>\n",
       "      <td>5</td>\n",
       "    </tr>\n",
       "    <tr>\n",
       "      <th>2</th>\n",
       "      <td>10</td>\n",
       "      <td>18</td>\n",
       "      <td>-8</td>\n",
       "    </tr>\n",
       "    <tr>\n",
       "      <th>3</th>\n",
       "      <td>15</td>\n",
       "      <td>10</td>\n",
       "      <td>5</td>\n",
       "    </tr>\n",
       "    <tr>\n",
       "      <th>4</th>\n",
       "      <td>16</td>\n",
       "      <td>12</td>\n",
       "      <td>4</td>\n",
       "    </tr>\n",
       "    <tr>\n",
       "      <th>...</th>\n",
       "      <td>...</td>\n",
       "      <td>...</td>\n",
       "      <td>...</td>\n",
       "    </tr>\n",
       "    <tr>\n",
       "      <th>9995</th>\n",
       "      <td>11</td>\n",
       "      <td>9</td>\n",
       "      <td>2</td>\n",
       "    </tr>\n",
       "    <tr>\n",
       "      <th>9996</th>\n",
       "      <td>14</td>\n",
       "      <td>14</td>\n",
       "      <td>0</td>\n",
       "    </tr>\n",
       "    <tr>\n",
       "      <th>9997</th>\n",
       "      <td>18</td>\n",
       "      <td>13</td>\n",
       "      <td>5</td>\n",
       "    </tr>\n",
       "    <tr>\n",
       "      <th>9998</th>\n",
       "      <td>18</td>\n",
       "      <td>15</td>\n",
       "      <td>3</td>\n",
       "    </tr>\n",
       "    <tr>\n",
       "      <th>9999</th>\n",
       "      <td>14</td>\n",
       "      <td>12</td>\n",
       "      <td>2</td>\n",
       "    </tr>\n",
       "  </tbody>\n",
       "</table>\n",
       "<p>10000 rows × 3 columns</p>\n",
       "</div>"
      ],
      "text/plain": [
       "      mage1  mage2  duel_result\n",
       "0        19      9           10\n",
       "1        20     15            5\n",
       "2        10     18           -8\n",
       "3        15     10            5\n",
       "4        16     12            4\n",
       "...     ...    ...          ...\n",
       "9995     11      9            2\n",
       "9996     14     14            0\n",
       "9997     18     13            5\n",
       "9998     18     15            3\n",
       "9999     14     12            2\n",
       "\n",
       "[10000 rows x 3 columns]"
      ]
     },
     "execution_count": 33,
     "metadata": {},
     "output_type": "execute_result"
    }
   ],
   "source": [
    "mage_duel"
   ]
  },
  {
   "cell_type": "code",
   "execution_count": 34,
   "id": "13723aac",
   "metadata": {},
   "outputs": [],
   "source": [
    "mtie = mage_duel.duel_result == 0\n",
    "m1w = mage_duel.duel_result > 0\n",
    "m2w = mage_duel.duel_result < 0"
   ]
  },
  {
   "cell_type": "code",
   "execution_count": 35,
   "id": "6414d7b2",
   "metadata": {},
   "outputs": [],
   "source": [
    "tie = mtie.mean()\n",
    "m1 = m1w.mean()\n",
    "m2 = m2w.mean()"
   ]
  },
  {
   "cell_type": "code",
   "execution_count": 36,
   "id": "822290d4",
   "metadata": {},
   "outputs": [
    {
     "name": "stdout",
     "output_type": "stream",
     "text": [
      "8.540000000000001 tie 54.32 mage1 37.14 mage2\n"
     ]
    }
   ],
   "source": [
    "print(tie*100,'tie', m1*100,'mage1', m2*100,'mage2')"
   ]
  },
  {
   "cell_type": "code",
   "execution_count": 37,
   "id": "9b72826c",
   "metadata": {},
   "outputs": [
    {
     "data": {
      "text/plain": [
       "0.49848"
      ]
     },
     "execution_count": 37,
     "metadata": {},
     "output_type": "execute_result"
    }
   ],
   "source": [
    "point = np.random.random((n_tests, 2))\n",
    "circle = point.sum(axis = 1) <= .5\n",
    "circle.mean()*4"
   ]
  },
  {
   "cell_type": "code",
   "execution_count": 38,
   "id": "dbc5e8cd",
   "metadata": {},
   "outputs": [
    {
     "ename": "ValueError",
     "evalue": "cannot reshape array of size 454587 into shape (90917,5)",
     "output_type": "error",
     "traceback": [
      "\u001b[0;31m---------------------------------------------------------------------------\u001b[0m",
      "\u001b[0;31mValueError\u001b[0m                                Traceback (most recent call last)",
      "Input \u001b[0;32mIn [38]\u001b[0m, in \u001b[0;36m<cell line: 6>\u001b[0;34m()\u001b[0m\n\u001b[1;32m      4\u001b[0m pop_df \u001b[38;5;241m=\u001b[39m pd\u001b[38;5;241m.\u001b[39mDataFrame(pop_per)\n\u001b[1;32m      5\u001b[0m pop_df \u001b[38;5;241m=\u001b[39m pop_df[pop_df[\u001b[38;5;241m0\u001b[39m] \u001b[38;5;241m>\u001b[39m \u001b[38;5;241m0\u001b[39m]\n\u001b[0;32m----> 6\u001b[0m new_pop \u001b[38;5;241m=\u001b[39m \u001b[43mpop_df\u001b[49m\u001b[38;5;241;43m.\u001b[39;49m\u001b[43mto_numpy\u001b[49m\u001b[43m(\u001b[49m\u001b[43m)\u001b[49m\u001b[38;5;241;43m.\u001b[39;49m\u001b[43mreshape\u001b[49m\u001b[43m(\u001b[49m\u001b[38;5;28;43mint\u001b[39;49m\u001b[43m(\u001b[49m\u001b[38;5;28;43mlen\u001b[39;49m\u001b[43m(\u001b[49m\u001b[43mpop_df\u001b[49m\u001b[43m)\u001b[49m\u001b[38;5;241;43m/\u001b[39;49m\u001b[43mdays\u001b[49m\u001b[43m)\u001b[49m\u001b[43m,\u001b[49m\u001b[43mdays\u001b[49m\u001b[43m)\u001b[49m\n\u001b[1;32m      7\u001b[0m pop_bought \u001b[38;5;241m=\u001b[39m new_pop\u001b[38;5;241m.\u001b[39msum(axis \u001b[38;5;241m=\u001b[39m \u001b[38;5;241m1\u001b[39m)\n\u001b[1;32m      8\u001b[0m pop_yay \u001b[38;5;241m=\u001b[39m (pop_bought \u001b[38;5;241m<\u001b[39m (pop_num \u001b[38;5;241m-\u001b[39m \u001b[38;5;241m1\u001b[39m))\u001b[38;5;241m.\u001b[39mmean()\n",
      "\u001b[0;31mValueError\u001b[0m: cannot reshape array of size 454587 into shape (90917,5)"
     ]
    }
   ],
   "source": [
    "pop_num = 17\n",
    "days = 5\n",
    "pop_per = np.random.normal(3, 1.5, size = n_tests * 5).astype(int)\n",
    "pop_df = pd.DataFrame(pop_per)\n",
    "pop_df = pop_df[pop_df[0] > 0]\n",
    "new_pop = pop_df.to_numpy().reshape(int(len(pop_df)/days),days)\n",
    "pop_bought = new_pop.sum(axis = 1)\n",
    "pop_yay = (pop_bought < (pop_num - 1)).mean()\n",
    "pop_yay\n",
    "# Around 71.76% chance that there are poptarts left, this works only one out of every 5 or so tries because it has to\n",
    "# have a randomly generated array that is evenly divisible by 5 once negatives are removed"
   ]
  },
  {
   "cell_type": "code",
   "execution_count": null,
   "id": "d5f82644",
   "metadata": {},
   "outputs": [],
   "source": []
  },
  {
   "cell_type": "code",
   "execution_count": 40,
   "id": "e155e871",
   "metadata": {},
   "outputs": [],
   "source": [
    "p = .1\n",
    "n = 618"
   ]
  },
  {
   "cell_type": "code",
   "execution_count": 66,
   "id": "0fbb156e",
   "metadata": {},
   "outputs": [
    {
     "data": {
      "text/plain": [
       "1.0"
      ]
     },
     "execution_count": 66,
     "metadata": {},
     "output_type": "execute_result"
    }
   ],
   "source": [
    "x = np.random.random((n, n_tests))\n",
    "success = x <= p\n",
    "prob = (success.sum(axis = 0) >= 70).mean()\n",
    "prob"
   ]
  },
  {
   "cell_type": "code",
   "execution_count": 98,
   "id": "c32ac855",
   "metadata": {},
   "outputs": [
    {
     "data": {
      "text/plain": [
       "0.14995"
      ]
     },
     "execution_count": 98,
     "metadata": {},
     "output_type": "execute_result"
    }
   ],
   "source": [
    "success = 1/10\n",
    "n_people = 618\n",
    "tests = np.random.random((n_people, n_tests))\n",
    "success_chance = tests <= success\n",
    "perc = (success_chance.sum(axis = 0) > 69).mean()\n",
    "perc"
   ]
  },
  {
   "cell_type": "code",
   "execution_count": 94,
   "id": "64b945b0",
   "metadata": {},
   "outputs": [
    {
     "data": {
      "text/plain": [
       "0.15115"
      ]
     },
     "execution_count": 94,
     "metadata": {},
     "output_type": "execute_result"
    }
   ],
   "source": []
  },
  {
   "cell_type": "code",
   "execution_count": null,
   "id": "8ba1584c",
   "metadata": {},
   "outputs": [],
   "source": []
  },
  {
   "cell_type": "code",
   "execution_count": null,
   "id": "46cda7fe",
   "metadata": {},
   "outputs": [],
   "source": []
  }
 ],
 "metadata": {
  "kernelspec": {
   "display_name": "Python 3 (ipykernel)",
   "language": "python",
   "name": "python3"
  },
  "language_info": {
   "codemirror_mode": {
    "name": "ipython",
    "version": 3
   },
   "file_extension": ".py",
   "mimetype": "text/x-python",
   "name": "python",
   "nbconvert_exporter": "python",
   "pygments_lexer": "ipython3",
   "version": "3.9.13"
  }
 },
 "nbformat": 4,
 "nbformat_minor": 5
}
