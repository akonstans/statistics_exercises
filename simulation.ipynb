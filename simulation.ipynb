{
 "cells": [
  {
   "cell_type": "code",
   "execution_count": 12,
   "id": "ddfa5061",
   "metadata": {},
   "outputs": [],
   "source": [
    "import numpy as np\n",
    "import pandas as pd"
   ]
  },
  {
   "cell_type": "code",
   "execution_count": 13,
   "id": "bba47768",
   "metadata": {},
   "outputs": [
    {
     "data": {
      "text/html": [
       "<div>\n",
       "<style scoped>\n",
       "    .dataframe tbody tr th:only-of-type {\n",
       "        vertical-align: middle;\n",
       "    }\n",
       "\n",
       "    .dataframe tbody tr th {\n",
       "        vertical-align: top;\n",
       "    }\n",
       "\n",
       "    .dataframe thead th {\n",
       "        text-align: right;\n",
       "    }\n",
       "</style>\n",
       "<table border=\"1\" class=\"dataframe\">\n",
       "  <thead>\n",
       "    <tr style=\"text-align: right;\">\n",
       "      <th></th>\n",
       "      <th>die_1</th>\n",
       "      <th>die_2</th>\n",
       "    </tr>\n",
       "  </thead>\n",
       "  <tbody>\n",
       "    <tr>\n",
       "      <th>0</th>\n",
       "      <td>5</td>\n",
       "      <td>4</td>\n",
       "    </tr>\n",
       "    <tr>\n",
       "      <th>1</th>\n",
       "      <td>2</td>\n",
       "      <td>3</td>\n",
       "    </tr>\n",
       "    <tr>\n",
       "      <th>2</th>\n",
       "      <td>1</td>\n",
       "      <td>5</td>\n",
       "    </tr>\n",
       "    <tr>\n",
       "      <th>3</th>\n",
       "      <td>6</td>\n",
       "      <td>3</td>\n",
       "    </tr>\n",
       "    <tr>\n",
       "      <th>4</th>\n",
       "      <td>3</td>\n",
       "      <td>2</td>\n",
       "    </tr>\n",
       "    <tr>\n",
       "      <th>...</th>\n",
       "      <td>...</td>\n",
       "      <td>...</td>\n",
       "    </tr>\n",
       "    <tr>\n",
       "      <th>9995</th>\n",
       "      <td>5</td>\n",
       "      <td>1</td>\n",
       "    </tr>\n",
       "    <tr>\n",
       "      <th>9996</th>\n",
       "      <td>5</td>\n",
       "      <td>5</td>\n",
       "    </tr>\n",
       "    <tr>\n",
       "      <th>9997</th>\n",
       "      <td>4</td>\n",
       "      <td>5</td>\n",
       "    </tr>\n",
       "    <tr>\n",
       "      <th>9998</th>\n",
       "      <td>4</td>\n",
       "      <td>5</td>\n",
       "    </tr>\n",
       "    <tr>\n",
       "      <th>9999</th>\n",
       "      <td>6</td>\n",
       "      <td>4</td>\n",
       "    </tr>\n",
       "  </tbody>\n",
       "</table>\n",
       "<p>10000 rows × 2 columns</p>\n",
       "</div>"
      ],
      "text/plain": [
       "      die_1  die_2\n",
       "0         5      4\n",
       "1         2      3\n",
       "2         1      5\n",
       "3         6      3\n",
       "4         3      2\n",
       "...     ...    ...\n",
       "9995      5      1\n",
       "9996      5      5\n",
       "9997      4      5\n",
       "9998      4      5\n",
       "9999      6      4\n",
       "\n",
       "[10000 rows x 2 columns]"
      ]
     },
     "execution_count": 13,
     "metadata": {},
     "output_type": "execute_result"
    }
   ],
   "source": [
    "n_trials = nrows = 10_000\n",
    "n_dice = ncols = 2\n",
    "\n",
    "rolls = np.random.choice([1, 2, 3, 4, 5, 6], n_trials * n_dice).reshape(nrows, ncols)\n",
    "rolls = pd.DataFrame(rolls, columns= ['die_1', 'die_2'])\n",
    "rolls"
   ]
  },
  {
   "cell_type": "code",
   "execution_count": 14,
   "id": "1fa5ba74",
   "metadata": {},
   "outputs": [],
   "source": [
    "rolls['doubles'] = rolls.die_1 == rolls.die_2\n",
    "dbl = rolls[rolls.doubles == True].doubles.count()"
   ]
  },
  {
   "cell_type": "code",
   "execution_count": 16,
   "id": "ce61bfd6",
   "metadata": {},
   "outputs": [
    {
     "data": {
      "text/plain": [
       "16.57"
      ]
     },
     "execution_count": 16,
     "metadata": {},
     "output_type": "execute_result"
    }
   ],
   "source": [
    "dbl/len(rolls)*100\n",
    "# around a 16 percent chance of rolling doubles"
   ]
  },
  {
   "cell_type": "code",
   "execution_count": 51,
   "id": "fee92c41",
   "metadata": {},
   "outputs": [
    {
     "data": {
      "text/plain": [
       "0.22091"
      ]
     },
     "execution_count": 51,
     "metadata": {},
     "output_type": "execute_result"
    }
   ],
   "source": [
    "p_heads = .5\n",
    "n_flips = 8\n",
    "n_tests = 10 ** 5\n",
    "flip = np.random.random((n_flips, n_tests))\n",
    "heads = flip > p_heads\n",
    "p = (heads.sum(axis = 0) == 3).mean()\n",
    "p\n",
    "# 22% chance of 3 exactly"
   ]
  },
  {
   "cell_type": "code",
   "execution_count": 52,
   "id": "d2f6d664",
   "metadata": {},
   "outputs": [
    {
     "data": {
      "text/plain": [
       "0.85788"
      ]
     },
     "execution_count": 52,
     "metadata": {},
     "output_type": "execute_result"
    }
   ],
   "source": [
    "p = (heads.sum(axis = 0) >= 3).mean()\n",
    "p\n",
    "# 85% chance of 3 or more"
   ]
  },
  {
   "cell_type": "code",
   "execution_count": 53,
   "id": "ac962bbe",
   "metadata": {},
   "outputs": [],
   "source": [
    "# Assumptions made for this question:\n",
    "# 1. There are an equal number of students per cohort\n",
    "# 2. The selection of students is completly at random"
   ]
  },
  {
   "cell_type": "code",
   "execution_count": 60,
   "id": "ca20ad06",
   "metadata": {},
   "outputs": [
    {
     "data": {
      "text/plain": [
       "0.06209"
      ]
     },
     "execution_count": 60,
     "metadata": {},
     "output_type": "execute_result"
    }
   ],
   "source": [
    "p_data = .25\n",
    "n_boards = 2\n",
    "n_tests = 10 ** 5\n",
    "board = np.random.random((n_boards, n_tests))\n",
    "ds = p_data >= board\n",
    "prob = (ds.sum(axis = 0) == 2).mean()\n",
    "prob\n",
    "# There is a 6.21% chance that both boards have a data science student on them"
   ]
  },
  {
   "cell_type": "code",
   "execution_count": 267,
   "id": "d66987b7",
   "metadata": {},
   "outputs": [
    {
     "data": {
      "text/plain": [
       "array([[ 4.17817465,  0.02317325,  6.03455776,  4.08244274,  3.38998679],\n",
       "       [-0.21069346,  2.57828795,  7.03217572,  2.41193422,  5.13026897],\n",
       "       [ 1.21094647,  5.97183655,  0.69980013,  4.85203191,  4.27383404],\n",
       "       ...,\n",
       "       [ 1.78889412,  3.39507803,  3.81548009,  3.12866879,  4.43624421],\n",
       "       [ 4.25692773,  4.73195271,  5.19258266,  1.47689273,  3.35961237],\n",
       "       [ 3.85795884,  6.66289457, -0.23721939,  2.52007985,  3.89426119]])"
      ]
     },
     "execution_count": 267,
     "metadata": {},
     "output_type": "execute_result"
    }
   ],
   "source": [
    "pop_num = 17\n",
    "days = 5\n",
    "n_tests = 10 ** 5\n",
    "pop_per = np.random.normal(3, 1.5, size = (n_tests, days))\n",
    "pop_bought = pop_per.sum(axis =1)\n",
    "pop_yay = (pop_bought < (pop_num - 1)).mean()\n",
    "pop_per\n",
    "# 61.95% chance that there are poptarts left"
   ]
  },
  {
   "cell_type": "code",
   "execution_count": 181,
   "id": "b5caea3c",
   "metadata": {},
   "outputs": [],
   "source": [
    "m_avg = 178\n",
    "m_std = 8\n",
    "f_avg = 170\n",
    "f_std = 6\n",
    "m_height = np.random.normal(m_avg, m_std, size = (n_tests,1))\n",
    "f_height = np.random.normal(f_avg, f_std, size = (n_tests,1))\n",
    "combo = np.concatenate((m_height, f_height),axis = 1)\n",
    "height_data = pd.DataFrame(combo, columns = ['male', 'female'])\n",
    "height_data['rand'] = height_data.female > height_data.male"
   ]
  },
  {
   "cell_type": "code",
   "execution_count": 186,
   "id": "6126a3dc",
   "metadata": {},
   "outputs": [
    {
     "data": {
      "text/plain": [
       "0.21441"
      ]
     },
     "execution_count": 186,
     "metadata": {},
     "output_type": "execute_result"
    }
   ],
   "source": [
    "height_data[height_data['rand'] == 1].rand.sum()/n_tests\n",
    "# 21.4% chance the woman is taller than the man"
   ]
  },
  {
   "cell_type": "code",
   "execution_count": 230,
   "id": "6883cf92",
   "metadata": {},
   "outputs": [
    {
     "data": {
      "text/plain": [
       "0.81945"
      ]
     },
     "execution_count": 230,
     "metadata": {},
     "output_type": "execute_result"
    }
   ],
   "source": [
    "error = 1/250\n",
    "n_students = 50\n",
    "tests = np.random.random((n_students, n_tests))\n",
    "error_chance = tests <= error\n",
    "perc = (error_chance.sum(axis = 0) == 0).mean()\n",
    "perc"
   ]
  },
  {
   "cell_type": "code",
   "execution_count": 231,
   "id": "4abeb4cf",
   "metadata": {},
   "outputs": [
    {
     "data": {
      "text/plain": [
       "0.66809"
      ]
     },
     "execution_count": 231,
     "metadata": {},
     "output_type": "execute_result"
    }
   ],
   "source": [
    "error = 1/250\n",
    "n_students = 100\n",
    "tests = np.random.random((n_students, n_tests))\n",
    "error_chance = tests <= error\n",
    "perc = (error_chance.sum(axis = 0) == 0).mean()\n",
    "perc"
   ]
  },
  {
   "cell_type": "code",
   "execution_count": 232,
   "id": "718643ea",
   "metadata": {},
   "outputs": [
    {
     "data": {
      "text/plain": [
       "0.54575"
      ]
     },
     "execution_count": 232,
     "metadata": {},
     "output_type": "execute_result"
    }
   ],
   "source": [
    "error = 1/250\n",
    "n_students = 150\n",
    "tests = np.random.random((n_students, n_tests))\n",
    "error_chance = tests <= error\n",
    "perc = (error_chance.sum(axis = 0) == 0).mean()\n",
    "perc"
   ]
  },
  {
   "cell_type": "code",
   "execution_count": 233,
   "id": "00225d4e",
   "metadata": {},
   "outputs": [
    {
     "data": {
      "text/plain": [
       "0.20213"
      ]
     },
     "execution_count": 233,
     "metadata": {},
     "output_type": "execute_result"
    }
   ],
   "source": [
    "error = 1/250\n",
    "n_students = 400\n",
    "tests = np.random.random((n_students, n_tests))\n",
    "error_chance = tests <= error\n",
    "perc = (error_chance.sum(axis = 0) == 0).mean()\n",
    "perc"
   ]
  },
  {
   "cell_type": "code",
   "execution_count": 244,
   "id": "7054876e",
   "metadata": {},
   "outputs": [
    {
     "data": {
      "text/plain": [
       "0.02673"
      ]
     },
     "execution_count": 244,
     "metadata": {},
     "output_type": "execute_result"
    }
   ],
   "source": [
    "food = .7\n",
    "days = 3\n",
    "n_days = 4\n",
    "no_food = np.random.random((n_tests, days))\n",
    "nfts = no_food > food\n",
    "nft_fails = (nfts.sum(axis = 1) == 3).mean()\n",
    "nft_fails"
   ]
  },
  {
   "cell_type": "code",
   "execution_count": 246,
   "id": "87645566",
   "metadata": {},
   "outputs": [
    {
     "data": {
      "text/plain": [
       "0.9918"
      ]
     },
     "execution_count": 246,
     "metadata": {},
     "output_type": "execute_result"
    }
   ],
   "source": [
    "food_here = np.random.random((n_tests, n_days))\n",
    "foods = food_here <= food\n",
    "yay_food = (foods.sum(axis = 1) >= 1).mean()\n",
    "yay_food"
   ]
  },
  {
   "cell_type": "code",
   "execution_count": 245,
   "id": "d7dfdb21",
   "metadata": {},
   "outputs": [
    {
     "data": {
      "text/plain": [
       "0.027"
      ]
     },
     "execution_count": 245,
     "metadata": {},
     "output_type": "execute_result"
    }
   ],
   "source": [
    ".3 * .3 * .3"
   ]
  },
  {
   "cell_type": "code",
   "execution_count": 250,
   "id": "3a9cc389",
   "metadata": {},
   "outputs": [
    {
     "data": {
      "text/plain": [
       "0.50327"
      ]
     },
     "execution_count": 250,
     "metadata": {},
     "output_type": "execute_result"
    }
   ],
   "source": [
    "n_people = int(23*(23-1)/2)\n",
    "bday = 1/365\n",
    "share = np.random.random((n_tests, n_people))\n",
    "share_chance = share <= bday\n",
    "bshare = (share_chance.sum(axis = 1) >=1).mean()\n",
    "bshare"
   ]
  },
  {
   "cell_type": "code",
   "execution_count": 251,
   "id": "ff12d416",
   "metadata": {},
   "outputs": [
    {
     "data": {
      "text/plain": [
       "506"
      ]
     },
     "execution_count": 251,
     "metadata": {},
     "output_type": "execute_result"
    }
   ],
   "source": [
    "23*22"
   ]
  },
  {
   "cell_type": "code",
   "execution_count": 254,
   "id": "b875f958",
   "metadata": {},
   "outputs": [
    {
     "data": {
      "text/plain": [
       "0.40774"
      ]
     },
     "execution_count": 254,
     "metadata": {},
     "output_type": "execute_result"
    }
   ],
   "source": [
    "n_people = int(20*(20-1)/2)\n",
    "bday = 1/365\n",
    "share = np.random.random((n_tests, n_people))\n",
    "share_chance = share <= bday\n",
    "bshare = (share_chance.sum(axis = 1) >=1).mean()\n",
    "bshare"
   ]
  },
  {
   "cell_type": "code",
   "execution_count": 261,
   "id": "7c83b8d1",
   "metadata": {},
   "outputs": [
    {
     "data": {
      "text/plain": [
       "0.88454"
      ]
     },
     "execution_count": 261,
     "metadata": {},
     "output_type": "execute_result"
    }
   ],
   "source": [
    "n_people = int(40*(40-1)/2)\n",
    "bday = 1/365\n",
    "share = np.random.random((n_tests, n_people))\n",
    "share_chance = share <= bday\n",
    "bshare = (share_chance.sum(axis = 1) >=1).mean()\n",
    "bshare"
   ]
  },
  {
   "cell_type": "code",
   "execution_count": 263,
   "id": "1d752de7",
   "metadata": {},
   "outputs": [
    {
     "data": {
      "text/plain": [
       "7.602739726027397"
      ]
     },
     "execution_count": 263,
     "metadata": {},
     "output_type": "execute_result"
    }
   ],
   "source": [
    "75*74/2/365"
   ]
  },
  {
   "cell_type": "code",
   "execution_count": null,
   "id": "63007f0c",
   "metadata": {},
   "outputs": [],
   "source": []
  }
 ],
 "metadata": {
  "kernelspec": {
   "display_name": "Python 3 (ipykernel)",
   "language": "python",
   "name": "python3"
  },
  "language_info": {
   "codemirror_mode": {
    "name": "ipython",
    "version": 3
   },
   "file_extension": ".py",
   "mimetype": "text/x-python",
   "name": "python",
   "nbconvert_exporter": "python",
   "pygments_lexer": "ipython3",
   "version": "3.9.13"
  }
 },
 "nbformat": 4,
 "nbformat_minor": 5
}
