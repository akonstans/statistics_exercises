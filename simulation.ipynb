{
 "cells": [
  {
   "cell_type": "code",
   "execution_count": 1,
   "id": "ddfa5061",
   "metadata": {},
   "outputs": [],
   "source": [
    "import numpy as np\n",
    "import pandas as pd"
   ]
  },
  {
   "cell_type": "code",
   "execution_count": 2,
   "id": "bba47768",
   "metadata": {},
   "outputs": [
    {
     "data": {
      "text/html": [
       "<div>\n",
       "<style scoped>\n",
       "    .dataframe tbody tr th:only-of-type {\n",
       "        vertical-align: middle;\n",
       "    }\n",
       "\n",
       "    .dataframe tbody tr th {\n",
       "        vertical-align: top;\n",
       "    }\n",
       "\n",
       "    .dataframe thead th {\n",
       "        text-align: right;\n",
       "    }\n",
       "</style>\n",
       "<table border=\"1\" class=\"dataframe\">\n",
       "  <thead>\n",
       "    <tr style=\"text-align: right;\">\n",
       "      <th></th>\n",
       "      <th>die_1</th>\n",
       "      <th>die_2</th>\n",
       "    </tr>\n",
       "  </thead>\n",
       "  <tbody>\n",
       "    <tr>\n",
       "      <th>0</th>\n",
       "      <td>1</td>\n",
       "      <td>6</td>\n",
       "    </tr>\n",
       "    <tr>\n",
       "      <th>1</th>\n",
       "      <td>3</td>\n",
       "      <td>5</td>\n",
       "    </tr>\n",
       "    <tr>\n",
       "      <th>2</th>\n",
       "      <td>6</td>\n",
       "      <td>4</td>\n",
       "    </tr>\n",
       "    <tr>\n",
       "      <th>3</th>\n",
       "      <td>2</td>\n",
       "      <td>6</td>\n",
       "    </tr>\n",
       "    <tr>\n",
       "      <th>4</th>\n",
       "      <td>1</td>\n",
       "      <td>6</td>\n",
       "    </tr>\n",
       "    <tr>\n",
       "      <th>...</th>\n",
       "      <td>...</td>\n",
       "      <td>...</td>\n",
       "    </tr>\n",
       "    <tr>\n",
       "      <th>9995</th>\n",
       "      <td>3</td>\n",
       "      <td>4</td>\n",
       "    </tr>\n",
       "    <tr>\n",
       "      <th>9996</th>\n",
       "      <td>6</td>\n",
       "      <td>1</td>\n",
       "    </tr>\n",
       "    <tr>\n",
       "      <th>9997</th>\n",
       "      <td>1</td>\n",
       "      <td>1</td>\n",
       "    </tr>\n",
       "    <tr>\n",
       "      <th>9998</th>\n",
       "      <td>5</td>\n",
       "      <td>5</td>\n",
       "    </tr>\n",
       "    <tr>\n",
       "      <th>9999</th>\n",
       "      <td>2</td>\n",
       "      <td>4</td>\n",
       "    </tr>\n",
       "  </tbody>\n",
       "</table>\n",
       "<p>10000 rows × 2 columns</p>\n",
       "</div>"
      ],
      "text/plain": [
       "      die_1  die_2\n",
       "0         1      6\n",
       "1         3      5\n",
       "2         6      4\n",
       "3         2      6\n",
       "4         1      6\n",
       "...     ...    ...\n",
       "9995      3      4\n",
       "9996      6      1\n",
       "9997      1      1\n",
       "9998      5      5\n",
       "9999      2      4\n",
       "\n",
       "[10000 rows x 2 columns]"
      ]
     },
     "execution_count": 2,
     "metadata": {},
     "output_type": "execute_result"
    }
   ],
   "source": [
    "n_trials = nrows = 10000\n",
    "n_dice = ncols = 2\n",
    "\n",
    "rolls = np.random.choice([1, 2, 3, 4, 5, 6], n_trials * n_dice).reshape(nrows, ncols)\n",
    "rolls = pd.DataFrame(rolls, columns= ['die_1', 'die_2'])\n",
    "rolls"
   ]
  },
  {
   "cell_type": "code",
   "execution_count": 3,
   "id": "1fa5ba74",
   "metadata": {},
   "outputs": [],
   "source": [
    "rolls['doubles'] = rolls.die_1 == rolls.die_2\n",
    "dbl = rolls[rolls.doubles == True].doubles.count()"
   ]
  },
  {
   "cell_type": "code",
   "execution_count": 4,
   "id": "ce61bfd6",
   "metadata": {},
   "outputs": [
    {
     "data": {
      "text/plain": [
       "16.650000000000002"
      ]
     },
     "execution_count": 4,
     "metadata": {},
     "output_type": "execute_result"
    }
   ],
   "source": [
    "dbl/len(rolls)*100\n",
    "# around a 16 percent chance of rolling doubles"
   ]
  },
  {
   "cell_type": "code",
   "execution_count": 5,
   "id": "fee92c41",
   "metadata": {},
   "outputs": [
    {
     "data": {
      "text/plain": [
       "0.21852"
      ]
     },
     "execution_count": 5,
     "metadata": {},
     "output_type": "execute_result"
    }
   ],
   "source": [
    "p_heads = .5\n",
    "n_flips = 8\n",
    "n_tests = 10 ** 5\n",
    "flip = np.random.random((n_flips, n_tests))\n",
    "heads = flip > p_heads\n",
    "p = (heads.sum(axis = 0) == 3).mean()\n",
    "p\n",
    "# 22% chance of 3 exactly"
   ]
  },
  {
   "cell_type": "code",
   "execution_count": 6,
   "id": "d2f6d664",
   "metadata": {},
   "outputs": [
    {
     "data": {
      "text/plain": [
       "0.63583"
      ]
     },
     "execution_count": 6,
     "metadata": {},
     "output_type": "execute_result"
    }
   ],
   "source": [
    "p = (heads.sum(axis = 0) > 3).mean()\n",
    "p\n",
    "# 64% chance of more than 3"
   ]
  },
  {
   "cell_type": "code",
   "execution_count": 7,
   "id": "ac962bbe",
   "metadata": {},
   "outputs": [],
   "source": [
    "# Assumptions made for this question:\n",
    "# 1. There are an equal number of students per cohort\n",
    "# 2. The selection of students is completly at random"
   ]
  },
  {
   "cell_type": "code",
   "execution_count": 8,
   "id": "ca20ad06",
   "metadata": {},
   "outputs": [
    {
     "data": {
      "text/plain": [
       "0.06307"
      ]
     },
     "execution_count": 8,
     "metadata": {},
     "output_type": "execute_result"
    }
   ],
   "source": [
    "p_data = .25\n",
    "n_boards = 2\n",
    "n_tests = 10 ** 5\n",
    "board = np.random.random((n_boards, n_tests))\n",
    "ds = p_data >= board\n",
    "prob = (ds.sum(axis = 0) == 2).mean()\n",
    "prob\n",
    "# There is around a 6.21% chance that both boards have a data science student on them"
   ]
  },
  {
   "cell_type": "code",
   "execution_count": 38,
   "id": "d66987b7",
   "metadata": {
    "scrolled": true
   },
   "outputs": [
    {
     "data": {
      "text/plain": [
       "0.6162"
      ]
     },
     "execution_count": 38,
     "metadata": {},
     "output_type": "execute_result"
    }
   ],
   "source": [
    "pop_num = 17\n",
    "days = 5\n",
    "n_tests = 10 ** 5\n",
    "pop_per = np.random.normal(3, 1.5, size = (n_tests, days))\n",
    "pop_bought = pop_per.sum(axis =1)\n",
    "pop_yay = (pop_bought < (pop_num - 1)).mean()\n",
    "pop_yay\n",
    "# 61.95% chance that there are poptarts left"
   ]
  },
  {
   "cell_type": "code",
   "execution_count": null,
   "id": "b5caea3c",
   "metadata": {},
   "outputs": [],
   "source": [
    "m_avg = 178\n",
    "m_std = 8\n",
    "f_avg = 170\n",
    "f_std = 6\n",
    "m_height = np.random.normal(m_avg, m_std, size = (n_tests,1))\n",
    "f_height = np.random.normal(f_avg, f_std, size = (n_tests,1))\n",
    "combo = np.concatenate((m_height, f_height),axis = 1)\n",
    "height_data = pd.DataFrame(combo, columns = ['male', 'female'])\n",
    "height_data['rand'] = height_data.female > height_data.male\n",
    "\n",
    "# You dont have to merge the arrays or make them into a dataframe to acomplish this"
   ]
  },
  {
   "cell_type": "code",
   "execution_count": null,
   "id": "6126a3dc",
   "metadata": {},
   "outputs": [],
   "source": [
    "height_data[height_data['rand'] == 1].rand.sum()/n_tests\n",
    "# 21.4% chance the woman is taller than the man"
   ]
  },
  {
   "cell_type": "code",
   "execution_count": null,
   "id": "6883cf92",
   "metadata": {},
   "outputs": [],
   "source": [
    "error = 1/250\n",
    "n_students = 50\n",
    "tests = np.random.random((n_students, n_tests))\n",
    "error_chance = tests <= error\n",
    "perc = (error_chance.sum(axis = 0) == 0).mean()\n",
    "perc"
   ]
  },
  {
   "cell_type": "code",
   "execution_count": null,
   "id": "4abeb4cf",
   "metadata": {},
   "outputs": [],
   "source": [
    "error = 1/250\n",
    "n_students = 100\n",
    "tests = np.random.random((n_students, n_tests))\n",
    "error_chance = tests <= error\n",
    "perc = (error_chance.sum(axis = 0) == 0).mean()\n",
    "perc"
   ]
  },
  {
   "cell_type": "code",
   "execution_count": null,
   "id": "718643ea",
   "metadata": {},
   "outputs": [],
   "source": [
    "error = 1/250\n",
    "n_students = 150\n",
    "tests = np.random.random((n_students, n_tests))\n",
    "error_chance = tests <= error\n",
    "perc = (error_chance.sum(axis = 0) == 0).mean()\n",
    "1-perc"
   ]
  },
  {
   "cell_type": "code",
   "execution_count": null,
   "id": "00225d4e",
   "metadata": {},
   "outputs": [],
   "source": [
    "error = 1/250\n",
    "n_students = 450\n",
    "tests = np.random.random((n_students, n_tests))\n",
    "error_chance = tests <= error\n",
    "perc = (error_chance.sum(axis = 0) == 0).mean()\n",
    "perc"
   ]
  },
  {
   "cell_type": "code",
   "execution_count": null,
   "id": "7054876e",
   "metadata": {},
   "outputs": [],
   "source": [
    "food = .7\n",
    "days = 3\n",
    "n_days = 4\n",
    "no_food = np.random.random((n_tests, days))\n",
    "nfts = no_food > food\n",
    "nft_fails = (nfts.sum(axis = 1) == 3).mean()\n",
    "nft_fails"
   ]
  },
  {
   "cell_type": "code",
   "execution_count": null,
   "id": "87645566",
   "metadata": {},
   "outputs": [],
   "source": [
    "food_here = np.random.random((n_tests, n_days))\n",
    "foods = food_here <= food\n",
    "yay_food = (foods.sum(axis = 1) >= 1).mean()\n",
    "yay_food"
   ]
  },
  {
   "cell_type": "code",
   "execution_count": null,
   "id": "d7dfdb21",
   "metadata": {},
   "outputs": [],
   "source": [
    ".3 * .3 * .3"
   ]
  },
  {
   "cell_type": "code",
   "execution_count": null,
   "id": "3a9cc389",
   "metadata": {},
   "outputs": [],
   "source": [
    "n_people = int(23*(23-1)/2)\n",
    "bday = 1/365\n",
    "share = np.random.random((n_tests, n_people))\n",
    "share_chance = share <= bday\n",
    "bshare = (share_chance.sum(axis = 1) >=1).mean()\n",
    "bshare"
   ]
  },
  {
   "cell_type": "code",
   "execution_count": null,
   "id": "ff12d416",
   "metadata": {},
   "outputs": [],
   "source": [
    "75*74"
   ]
  },
  {
   "cell_type": "code",
   "execution_count": null,
   "id": "b875f958",
   "metadata": {},
   "outputs": [],
   "source": [
    "n_people = int(20*(20-1)/2)\n",
    "bday = 1/365\n",
    "share = np.random.random((n_tests, n_people))\n",
    "share_chance = share <= bday\n",
    "bshare = (share_chance.sum(axis = 1) >=1).mean()\n",
    "bshare"
   ]
  },
  {
   "cell_type": "code",
   "execution_count": null,
   "id": "7c83b8d1",
   "metadata": {},
   "outputs": [],
   "source": [
    "n_people = int(75*(75-1)/2)\n",
    "bday = 1/365\n",
    "share = np.random.random((n_tests, n_people))\n",
    "share_chance = share <= bday\n",
    "bshare = (share_chance.sum(axis = 1) >=1).mean()\n",
    "bshare\n",
    "# 75 people is an almost guaranteed chance that at least 2 people share a bday"
   ]
  },
  {
   "cell_type": "code",
   "execution_count": null,
   "id": "1d752de7",
   "metadata": {},
   "outputs": [],
   "source": [
    "75*74/2/365"
   ]
  },
  {
   "cell_type": "code",
   "execution_count": null,
   "id": "63007f0c",
   "metadata": {},
   "outputs": [],
   "source": [
    "area = np.pi*.5**2\n",
    "area/1"
   ]
  },
  {
   "cell_type": "code",
   "execution_count": null,
   "id": "cd19f684",
   "metadata": {},
   "outputs": [],
   "source": [
    "chance = np.random.random((n_tests))\n",
    "point_chance = area >= chance\n",
    "overall = point_chance.mean()\n",
    "overall"
   ]
  },
  {
   "cell_type": "code",
   "execution_count": null,
   "id": "43273225",
   "metadata": {},
   "outputs": [],
   "source": [
    "mage_tests = 10000\n",
    "h1dice = 6\n",
    "h2dice = 4"
   ]
  },
  {
   "cell_type": "code",
   "execution_count": null,
   "id": "af18fdb7",
   "metadata": {},
   "outputs": [],
   "source": [
    "h1 = np.random.choice([1,2,3,4], mage_tests * h1dice).reshape(mage_tests, h1dice)\n",
    "m1pow = h1.sum(axis = 1)\n",
    "m1pow"
   ]
  },
  {
   "cell_type": "code",
   "execution_count": null,
   "id": "61eeec75",
   "metadata": {},
   "outputs": [],
   "source": [
    "h2 = np.random.choice([1,2,3,4,5,6], mage_tests * h2dice).reshape(mage_tests, h2dice)\n",
    "m2pow = h2.sum(axis = 1)\n",
    "m2pow"
   ]
  },
  {
   "cell_type": "code",
   "execution_count": null,
   "id": "f8408a49",
   "metadata": {},
   "outputs": [],
   "source": [
    "big_array = np.concatenate([m1pow,m2pow])\n",
    "big_array"
   ]
  },
  {
   "cell_type": "code",
   "execution_count": null,
   "id": "9945237e",
   "metadata": {},
   "outputs": [],
   "source": [
    "mage_duel = pd.DataFrame([m1pow,m2pow]).T"
   ]
  },
  {
   "cell_type": "code",
   "execution_count": null,
   "id": "2d54ebc6",
   "metadata": {},
   "outputs": [],
   "source": [
    "mage_duel = mage_duel.rename(columns = {0 : 'mage1', 1 : 'mage2'})"
   ]
  },
  {
   "cell_type": "code",
   "execution_count": null,
   "id": "3055d775",
   "metadata": {},
   "outputs": [],
   "source": [
    "mage_duel['duel_result'] = mage_duel.mage1 - mage_duel.mage2"
   ]
  },
  {
   "cell_type": "code",
   "execution_count": null,
   "id": "44617dca",
   "metadata": {},
   "outputs": [],
   "source": [
    "mage_duel"
   ]
  },
  {
   "cell_type": "code",
   "execution_count": null,
   "id": "13723aac",
   "metadata": {},
   "outputs": [],
   "source": [
    "mtie = mage_duel.duel_result == 0\n",
    "m1w = mage_duel.duel_result > 0\n",
    "m2w = mage_duel.duel_result < 0"
   ]
  },
  {
   "cell_type": "code",
   "execution_count": null,
   "id": "6414d7b2",
   "metadata": {},
   "outputs": [],
   "source": [
    "tie = mtie.mean()\n",
    "m1 = m1w.mean()\n",
    "m2 = m2w.mean()"
   ]
  },
  {
   "cell_type": "code",
   "execution_count": null,
   "id": "822290d4",
   "metadata": {},
   "outputs": [],
   "source": [
    "print(tie*100,'tie', m1*100,'mage1', m2*100,'mage2')"
   ]
  },
  {
   "cell_type": "code",
   "execution_count": null,
   "id": "9b72826c",
   "metadata": {},
   "outputs": [],
   "source": [
    "point = np.random.random((n_tests, 2))\n",
    "circle = point.sum(axis = 1) <= .5\n",
    "circle.mean()*4"
   ]
  },
  {
   "cell_type": "code",
   "execution_count": 99,
   "id": "dbc5e8cd",
   "metadata": {},
   "outputs": [
    {
     "data": {
      "text/plain": [
       "0.7179856589829315"
      ]
     },
     "execution_count": 99,
     "metadata": {},
     "output_type": "execute_result"
    }
   ],
   "source": [
    "pop_num = 17\n",
    "days = 5\n",
    "pop_per = np.random.normal(3, 1.5, size = n_tests * 5).astype(int)\n",
    "pop_df = pd.DataFrame(pop_per)\n",
    "pop_df = pop_df[pop_df[0] > 0]\n",
    "new_pop = pop_df.to_numpy().reshape(int(len(pop_df)/days),days)\n",
    "pop_bought = new_pop.sum(axis = 1)\n",
    "pop_yay = (pop_bought < (pop_num - 1)).mean()\n",
    "pop_yay\n",
    "# Around 71.76% chance that there are poptarts left, this works only one out of every 5 or so tries because it has to\n",
    "# have a randomly generated array that is evenly divisible by 5 once negatives are removed"
   ]
  },
  {
   "cell_type": "code",
   "execution_count": 94,
   "id": "d5f82644",
   "metadata": {},
   "outputs": [
    {
     "data": {
      "text/plain": [
       "0"
      ]
     },
     "execution_count": 94,
     "metadata": {},
     "output_type": "execute_result"
    }
   ],
   "source": []
  },
  {
   "cell_type": "code",
   "execution_count": null,
   "id": "e155e871",
   "metadata": {},
   "outputs": [],
   "source": []
  },
  {
   "cell_type": "code",
   "execution_count": null,
   "id": "0fbb156e",
   "metadata": {},
   "outputs": [],
   "source": []
  }
 ],
 "metadata": {
  "kernelspec": {
   "display_name": "Python 3 (ipykernel)",
   "language": "python",
   "name": "python3"
  },
  "language_info": {
   "codemirror_mode": {
    "name": "ipython",
    "version": 3
   },
   "file_extension": ".py",
   "mimetype": "text/x-python",
   "name": "python",
   "nbconvert_exporter": "python",
   "pygments_lexer": "ipython3",
   "version": "3.9.13"
  }
 },
 "nbformat": 4,
 "nbformat_minor": 5
}
