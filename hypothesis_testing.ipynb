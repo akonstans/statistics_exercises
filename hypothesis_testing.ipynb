{
 "cells": [
  {
   "cell_type": "markdown",
   "id": "f66a5c1e",
   "metadata": {},
   "source": [
    "# For each of the following questions, formulate a null and alternative hypothesis (be as specific as you can be), then give an example of what a true positive, true negative, type I and type II errors would look like. Note that some of the questions are intentionally phrased in a vague way. It is your job to reword these as more precise questions that could be tested."
   ]
  },
  {
   "cell_type": "markdown",
   "id": "1e9a8d53",
   "metadata": {},
   "source": [
    "## Has the network latency gone up since we switched internet service providers?\n",
    "##### H0 = Network latency has not gone up since changing between service providers\n",
    "##### Ha = Network latency has gone up since changing between service providers\n",
    "##### True Positive = Finding that the latency has increased since changing \n",
    "##### True Negative = Finding that the latency has not changed when switching providers\n",
    "##### Type 1 = Finding that latency has not changed despite there being real change\n",
    "##### Type 2 = Finding change in latency despite no change occuring or latency increasing not due to provider"
   ]
  },
  {
   "cell_type": "markdown",
   "id": "b1d07b66",
   "metadata": {},
   "source": [
    "## Is the website redesign any good?\n",
    "##### H0 = The redesign has no affect or negative affect on the clicks on our website\n",
    "##### Ha = The redesign has increased clicks on the redesign\n",
    "##### True Positive = Finding that clicks have increased after the redesign\n",
    "##### True Negative = Finding that clicks have not changed after redesign\n",
    "##### Type 1 = Finding that clicks were not effected incorrectly\n",
    "##### Type 2 = Finding that clicks were effected by the redesign when there was either another reason or they were not actually effected"
   ]
  },
  {
   "cell_type": "markdown",
   "id": "5e19d25d",
   "metadata": {},
   "source": [
    "## Is our television ad driving more sales?\n",
    "##### H0 = Sales are not increasing due to the ad or sales decreased\n",
    "##### Ha = Sales are increasing due to the ad\n",
    "##### True Positive = Find that Sales have increased due to the advertisment\n",
    "##### True Negative = Find that the advertisment is not driving sales to increase\n",
    "##### Type 1 = Find that Sales are being increased due to the advertisement incorrectly when Sales are increasing due to other factors\n",
    "##### Type 2 = Find that Sales are not being driven by ads when they in fact are being driven by it"
   ]
  },
  {
   "cell_type": "code",
   "execution_count": null,
   "id": "f34e6d6c",
   "metadata": {},
   "outputs": [],
   "source": []
  }
 ],
 "metadata": {
  "kernelspec": {
   "display_name": "Python 3 (ipykernel)",
   "language": "python",
   "name": "python3"
  },
  "language_info": {
   "codemirror_mode": {
    "name": "ipython",
    "version": 3
   },
   "file_extension": ".py",
   "mimetype": "text/x-python",
   "name": "python",
   "nbconvert_exporter": "python",
   "pygments_lexer": "ipython3",
   "version": "3.9.13"
  }
 },
 "nbformat": 4,
 "nbformat_minor": 5
}
