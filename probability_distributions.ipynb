{
 "cells": [
  {
   "cell_type": "code",
   "execution_count": 42,
   "id": "b3321e4c",
   "metadata": {},
   "outputs": [],
   "source": [
    "import numpy as np\n",
    "from scipy import stats\n",
    "import pandas as pd\n",
    "import new_lib as nl\n",
    "import env as env"
   ]
  },
  {
   "cell_type": "markdown",
   "id": "9c2e5f83",
   "metadata": {},
   "source": [
    "A bank found that the average number of cars waiting during the noon hour at a drive-up window follows a Poisson distribution with a mean of 2 cars. Make a chart of this distribution and answer these questions concerning the probability of cars waiting at the drive-up window.\n",
    "\n",
    "What is the probability that no cars drive up in the noon hour?\n",
    "What is the probability that 3 or more cars come through the drive through?\n",
    "How likely is it that the drive through gets at least 1 car?\n"
   ]
  },
  {
   "cell_type": "code",
   "execution_count": 2,
   "id": "d83e4458",
   "metadata": {},
   "outputs": [
    {
     "data": {
      "text/plain": [
       "0.1353352832366127"
      ]
     },
     "execution_count": 2,
     "metadata": {},
     "output_type": "execute_result"
    }
   ],
   "source": [
    "stats.poisson(2).pmf(0)"
   ]
  },
  {
   "cell_type": "code",
   "execution_count": 3,
   "id": "188f9cb3",
   "metadata": {},
   "outputs": [
    {
     "data": {
      "text/plain": [
       "0.14287653950145296"
      ]
     },
     "execution_count": 3,
     "metadata": {},
     "output_type": "execute_result"
    }
   ],
   "source": [
    "stats.poisson(2).sf(3)"
   ]
  },
  {
   "cell_type": "code",
   "execution_count": 4,
   "id": "592bab60",
   "metadata": {},
   "outputs": [
    {
     "data": {
      "text/plain": [
       "0.5939941502901616"
      ]
     },
     "execution_count": 4,
     "metadata": {},
     "output_type": "execute_result"
    }
   ],
   "source": [
    "stats.poisson(2).sf(1)"
   ]
  },
  {
   "cell_type": "markdown",
   "id": "d9a34e85",
   "metadata": {},
   "source": [
    "Grades of State University graduates are normally distributed with a mean of 3.0 and a standard deviation of .3. Calculate the following:\n",
    "\n",
    "What grade point average is required to be in the top 5% of the graduating class?\n",
    "What GPA constitutes the bottom 15% of the class?\n",
    "An eccentric alumnus left scholarship money for students in the third decile from the bottom of their class. Determine the range of the third decile. Would a student with a 2.8 grade point average qualify for this scholarship?\n",
    "If I have a GPA of 3.5, what percentile am I in?"
   ]
  },
  {
   "cell_type": "code",
   "execution_count": 8,
   "id": "370fdc07",
   "metadata": {},
   "outputs": [],
   "source": [
    "gpa = stats.norm(3.0,.3)"
   ]
  },
  {
   "cell_type": "code",
   "execution_count": 9,
   "id": "893150d5",
   "metadata": {},
   "outputs": [
    {
     "data": {
      "text/plain": [
       "3.4934560880854417"
      ]
     },
     "execution_count": 9,
     "metadata": {},
     "output_type": "execute_result"
    }
   ],
   "source": [
    "gpa.ppf(.95)"
   ]
  },
  {
   "cell_type": "code",
   "execution_count": 10,
   "id": "c7595011",
   "metadata": {},
   "outputs": [
    {
     "data": {
      "text/plain": [
       "2.689069983151863"
      ]
     },
     "execution_count": 10,
     "metadata": {},
     "output_type": "execute_result"
    }
   ],
   "source": [
    "gpa.ppf(.15)"
   ]
  },
  {
   "cell_type": "code",
   "execution_count": 12,
   "id": "2e7e7e52",
   "metadata": {},
   "outputs": [
    {
     "data": {
      "text/plain": [
       "2.842679846187588"
      ]
     },
     "execution_count": 12,
     "metadata": {},
     "output_type": "execute_result"
    }
   ],
   "source": [
    "gpa.ppf(.3)\n",
    "#2.8 qualifies"
   ]
  },
  {
   "cell_type": "code",
   "execution_count": 13,
   "id": "9e4cefd2",
   "metadata": {},
   "outputs": [
    {
     "data": {
      "text/plain": [
       "0.08131602287167228"
      ]
     },
     "execution_count": 13,
     "metadata": {},
     "output_type": "execute_result"
    }
   ],
   "source": [
    "gpa.ppf(.4)-gpa.ppf(.3)"
   ]
  },
  {
   "cell_type": "code",
   "execution_count": 14,
   "id": "5dd6646b",
   "metadata": {},
   "outputs": [
    {
     "data": {
      "text/plain": [
       "0.9522096477271853"
      ]
     },
     "execution_count": 14,
     "metadata": {},
     "output_type": "execute_result"
    }
   ],
   "source": [
    "gpa.cdf(3.5)\n",
    "#95th percentile"
   ]
  },
  {
   "cell_type": "markdown",
   "id": "7b6a6005",
   "metadata": {},
   "source": [
    "A marketing website has an average click-through rate of 2%. One day they observe 4326 visitors and 97 click-throughs. How likely is it that this many people or more click through?"
   ]
  },
  {
   "cell_type": "code",
   "execution_count": 18,
   "id": "a6b3958d",
   "metadata": {},
   "outputs": [
    {
     "data": {
      "text/plain": [
       "0.13975823631416448"
      ]
     },
     "execution_count": 18,
     "metadata": {},
     "output_type": "execute_result"
    }
   ],
   "source": [
    "stats.binom(4326,.02).sf(96)"
   ]
  },
  {
   "cell_type": "markdown",
   "id": "426b0969",
   "metadata": {},
   "source": [
    "You are working on some statistics homework consisting of 100 questions where all of the answers are a probability rounded to the hundreths place. Looking to save time, you put down random probabilities as the answer to each question.\n",
    "\n",
    "What is the probability that at least one of your first 60 answers is correct?"
   ]
  },
  {
   "cell_type": "code",
   "execution_count": 21,
   "id": "903525db",
   "metadata": {},
   "outputs": [
    {
     "data": {
      "text/plain": [
       "0.45284335760923855"
      ]
     },
     "execution_count": 21,
     "metadata": {},
     "output_type": "execute_result"
    }
   ],
   "source": [
    "stats.binom(60,.01).sf(0)\n",
    "#45.28% chance that at least one answer is right"
   ]
  },
  {
   "cell_type": "markdown",
   "id": "df0fb807",
   "metadata": {},
   "source": [
    "The codeup staff tends to get upset when the student break area is not cleaned up. Suppose that there's a 3% chance that any one student cleans the break area when they visit it, and, on any given day, about 90% of the 3 active cohorts of 22 students visit the break area. How likely is it that the break area gets cleaned up each day? How likely is it that it goes two days without getting cleaned up? All week?"
   ]
  },
  {
   "cell_type": "code",
   "execution_count": 26,
   "id": "53418cf2",
   "metadata": {},
   "outputs": [
    {
     "data": {
      "text/plain": [
       "59.400000000000006"
      ]
     },
     "execution_count": 26,
     "metadata": {},
     "output_type": "execute_result"
    }
   ],
   "source": [
    ".9*22*3"
   ]
  },
  {
   "cell_type": "code",
   "execution_count": 30,
   "id": "21aca292",
   "metadata": {},
   "outputs": [
    {
     "data": {
      "text/plain": [
       "0.8342199288437352"
      ]
     },
     "execution_count": 30,
     "metadata": {},
     "output_type": "execute_result"
    }
   ],
   "source": [
    "day = stats.binom(59,.03).sf(0)\n",
    "day\n",
    "#83.42% chance the break room is cleaned each day"
   ]
  },
  {
   "cell_type": "code",
   "execution_count": 32,
   "id": "1d29a421",
   "metadata": {},
   "outputs": [],
   "source": [
    "no_clean = 1 - day"
   ]
  },
  {
   "cell_type": "code",
   "execution_count": 33,
   "id": "dad24ae1",
   "metadata": {},
   "outputs": [
    {
     "data": {
      "text/plain": [
       "0.027483031992576224"
      ]
     },
     "execution_count": 33,
     "metadata": {},
     "output_type": "execute_result"
    }
   ],
   "source": [
    "no_clean ** 2\n",
    "#2.75% chance it goes 2 days without any cleaning"
   ]
  },
  {
   "cell_type": "code",
   "execution_count": 34,
   "id": "338bf777",
   "metadata": {},
   "outputs": [
    {
     "data": {
      "text/plain": [
       "3.44132945698801e-06"
      ]
     },
     "execution_count": 34,
     "metadata": {},
     "output_type": "execute_result"
    }
   ],
   "source": [
    "no_clean ** 7\n",
    "#.000344% chance that it goes seven days without being cleaned"
   ]
  },
  {
   "cell_type": "markdown",
   "id": "e4b2a7ae",
   "metadata": {},
   "source": [
    "You want to get lunch at La Panaderia, but notice that the line is usually very long at lunchtime. After several weeks of careful observation, you notice that the average number of people in line when your lunch break starts is normally distributed with a mean of 15 and standard deviation of 3. If it takes 2 minutes for each person to order, and 10 minutes from ordering to getting your food, what is the likelihood that you have at least 15 minutes left to eat your food before you have to go back to class? Assume you have one hour for lunch, and ignore travel time to and from La Panaderia."
   ]
  },
  {
   "cell_type": "code",
   "execution_count": 36,
   "id": "8cb665b4",
   "metadata": {},
   "outputs": [],
   "source": [
    "line = stats.norm(15,3)"
   ]
  },
  {
   "cell_type": "code",
   "execution_count": 39,
   "id": "3ae34ba5",
   "metadata": {},
   "outputs": [
    {
     "data": {
      "text/plain": [
       "17.5"
      ]
     },
     "execution_count": 39,
     "metadata": {},
     "output_type": "execute_result"
    }
   ],
   "source": [
    "(60-25)/2"
   ]
  },
  {
   "cell_type": "code",
   "execution_count": 40,
   "id": "45ae8821",
   "metadata": {},
   "outputs": [
    {
     "data": {
      "text/plain": [
       "0.7475074624530771"
      ]
     },
     "execution_count": 40,
     "metadata": {},
     "output_type": "execute_result"
    }
   ],
   "source": [
    "line.cdf(17)"
   ]
  },
  {
   "cell_type": "code",
   "execution_count": 45,
   "id": "4176d6e3",
   "metadata": {},
   "outputs": [],
   "source": [
    "url = nl.get_db_url('employees')"
   ]
  },
  {
   "cell_type": "code",
   "execution_count": 53,
   "id": "0f208c8e",
   "metadata": {},
   "outputs": [],
   "source": [
    "query = 'SELECT * FROM salaries WHERE to_date >= NOW()'"
   ]
  },
  {
   "cell_type": "code",
   "execution_count": 54,
   "id": "501172b2",
   "metadata": {},
   "outputs": [],
   "source": [
    "sql = pd.read_sql(query, url)"
   ]
  },
  {
   "cell_type": "markdown",
   "id": "3530265d",
   "metadata": {},
   "source": [
    "Connect to the employees database and find the average salary of current employees, along with the standard deviation. For the following questions, calculate the answer based on modeling the employees salaries with a normal distribution defined by the calculated mean and standard deviation then compare this answer to the actual values present in the salaries dataset.\n",
    "\n",
    "What percent of employees earn less than 60,000?\n",
    "What percent of employees earn more than 95,000?\n",
    "What percent of employees earn between 65,000 and 80,000?\n",
    "What do the top 5% of employees make?"
   ]
  },
  {
   "cell_type": "code",
   "execution_count": 60,
   "id": "3cc52594",
   "metadata": {},
   "outputs": [
    {
     "data": {
      "text/html": [
       "<div>\n",
       "<style scoped>\n",
       "    .dataframe tbody tr th:only-of-type {\n",
       "        vertical-align: middle;\n",
       "    }\n",
       "\n",
       "    .dataframe tbody tr th {\n",
       "        vertical-align: top;\n",
       "    }\n",
       "\n",
       "    .dataframe thead th {\n",
       "        text-align: right;\n",
       "    }\n",
       "</style>\n",
       "<table border=\"1\" class=\"dataframe\">\n",
       "  <thead>\n",
       "    <tr style=\"text-align: right;\">\n",
       "      <th></th>\n",
       "      <th>emp_no</th>\n",
       "      <th>salary</th>\n",
       "      <th>from_date</th>\n",
       "      <th>to_date</th>\n",
       "    </tr>\n",
       "  </thead>\n",
       "  <tbody>\n",
       "    <tr>\n",
       "      <th>0</th>\n",
       "      <td>10001</td>\n",
       "      <td>88958</td>\n",
       "      <td>2002-06-22</td>\n",
       "      <td>9999-01-01</td>\n",
       "    </tr>\n",
       "    <tr>\n",
       "      <th>1</th>\n",
       "      <td>10002</td>\n",
       "      <td>72527</td>\n",
       "      <td>2001-08-02</td>\n",
       "      <td>9999-01-01</td>\n",
       "    </tr>\n",
       "    <tr>\n",
       "      <th>2</th>\n",
       "      <td>10003</td>\n",
       "      <td>43311</td>\n",
       "      <td>2001-12-01</td>\n",
       "      <td>9999-01-01</td>\n",
       "    </tr>\n",
       "    <tr>\n",
       "      <th>3</th>\n",
       "      <td>10004</td>\n",
       "      <td>74057</td>\n",
       "      <td>2001-11-27</td>\n",
       "      <td>9999-01-01</td>\n",
       "    </tr>\n",
       "    <tr>\n",
       "      <th>4</th>\n",
       "      <td>10005</td>\n",
       "      <td>94692</td>\n",
       "      <td>2001-09-09</td>\n",
       "      <td>9999-01-01</td>\n",
       "    </tr>\n",
       "    <tr>\n",
       "      <th>...</th>\n",
       "      <td>...</td>\n",
       "      <td>...</td>\n",
       "      <td>...</td>\n",
       "      <td>...</td>\n",
       "    </tr>\n",
       "    <tr>\n",
       "      <th>240119</th>\n",
       "      <td>499995</td>\n",
       "      <td>52868</td>\n",
       "      <td>2002-06-01</td>\n",
       "      <td>9999-01-01</td>\n",
       "    </tr>\n",
       "    <tr>\n",
       "      <th>240120</th>\n",
       "      <td>499996</td>\n",
       "      <td>69501</td>\n",
       "      <td>2002-05-12</td>\n",
       "      <td>9999-01-01</td>\n",
       "    </tr>\n",
       "    <tr>\n",
       "      <th>240121</th>\n",
       "      <td>499997</td>\n",
       "      <td>83441</td>\n",
       "      <td>2001-08-26</td>\n",
       "      <td>9999-01-01</td>\n",
       "    </tr>\n",
       "    <tr>\n",
       "      <th>240122</th>\n",
       "      <td>499998</td>\n",
       "      <td>55003</td>\n",
       "      <td>2001-12-25</td>\n",
       "      <td>9999-01-01</td>\n",
       "    </tr>\n",
       "    <tr>\n",
       "      <th>240123</th>\n",
       "      <td>499999</td>\n",
       "      <td>77303</td>\n",
       "      <td>2001-11-29</td>\n",
       "      <td>9999-01-01</td>\n",
       "    </tr>\n",
       "  </tbody>\n",
       "</table>\n",
       "<p>240124 rows × 4 columns</p>\n",
       "</div>"
      ],
      "text/plain": [
       "        emp_no  salary   from_date     to_date\n",
       "0        10001   88958  2002-06-22  9999-01-01\n",
       "1        10002   72527  2001-08-02  9999-01-01\n",
       "2        10003   43311  2001-12-01  9999-01-01\n",
       "3        10004   74057  2001-11-27  9999-01-01\n",
       "4        10005   94692  2001-09-09  9999-01-01\n",
       "...        ...     ...         ...         ...\n",
       "240119  499995   52868  2002-06-01  9999-01-01\n",
       "240120  499996   69501  2002-05-12  9999-01-01\n",
       "240121  499997   83441  2001-08-26  9999-01-01\n",
       "240122  499998   55003  2001-12-25  9999-01-01\n",
       "240123  499999   77303  2001-11-29  9999-01-01\n",
       "\n",
       "[240124 rows x 4 columns]"
      ]
     },
     "execution_count": 60,
     "metadata": {},
     "output_type": "execute_result"
    }
   ],
   "source": [
    "sql"
   ]
  },
  {
   "cell_type": "code",
   "execution_count": 73,
   "id": "05dbf6e5",
   "metadata": {},
   "outputs": [
    {
     "data": {
      "text/plain": [
       "240124"
      ]
     },
     "execution_count": 73,
     "metadata": {},
     "output_type": "execute_result"
    }
   ],
   "source": [
    "num_emp = len(sql)\n",
    "num_emp"
   ]
  },
  {
   "cell_type": "code",
   "execution_count": 67,
   "id": "11c85e84",
   "metadata": {},
   "outputs": [],
   "source": [
    "nquery = 'SELECT * FROM salaries WHERE to_date >= NOW() AND salary < 60000'"
   ]
  },
  {
   "cell_type": "code",
   "execution_count": 75,
   "id": "cf335cd7",
   "metadata": {},
   "outputs": [],
   "source": [
    "low_earn = len(pd.read_sql(nquery, url))"
   ]
  },
  {
   "cell_type": "code",
   "execution_count": 76,
   "id": "adf6a549",
   "metadata": {},
   "outputs": [
    {
     "data": {
      "text/plain": [
       "0.2705727041028802"
      ]
     },
     "execution_count": 76,
     "metadata": {},
     "output_type": "execute_result"
    }
   ],
   "source": [
    "low_earn/num_emp\n",
    "#27.06% make less than 60000"
   ]
  },
  {
   "cell_type": "code",
   "execution_count": 77,
   "id": "a31bc81e",
   "metadata": {},
   "outputs": [],
   "source": [
    "mquery = 'SELECT * FROM salaries WHERE to_date >= NOW() AND salary > 95000'"
   ]
  },
  {
   "cell_type": "code",
   "execution_count": 78,
   "id": "1168281b",
   "metadata": {},
   "outputs": [],
   "source": [
    "high_earn = len(pd.read_sql(mquery, url))"
   ]
  },
  {
   "cell_type": "code",
   "execution_count": 79,
   "id": "88867b38",
   "metadata": {},
   "outputs": [
    {
     "data": {
      "text/plain": [
       "0.1086272092752078"
      ]
     },
     "execution_count": 79,
     "metadata": {},
     "output_type": "execute_result"
    }
   ],
   "source": [
    "high_earn/num_emp\n",
    "# 10.86% make more than 95000"
   ]
  },
  {
   "cell_type": "code",
   "execution_count": 80,
   "id": "092569d1",
   "metadata": {},
   "outputs": [],
   "source": [
    "squery = 'SELECT * FROM salaries WHERE to_date >= NOW() AND salary BETWEEN 65000 AND 80000'"
   ]
  },
  {
   "cell_type": "code",
   "execution_count": 81,
   "id": "51b5e45b",
   "metadata": {},
   "outputs": [],
   "source": [
    "mid_earn = len(pd.read_sql(squery, url))"
   ]
  },
  {
   "cell_type": "code",
   "execution_count": 82,
   "id": "b812da77",
   "metadata": {},
   "outputs": [
    {
     "data": {
      "text/plain": [
       "0.32515700221552196"
      ]
     },
     "execution_count": 82,
     "metadata": {},
     "output_type": "execute_result"
    }
   ],
   "source": [
    "mid_earn/num_emp"
   ]
  },
  {
   "cell_type": "code",
   "execution_count": 83,
   "id": "ebfd31a7",
   "metadata": {},
   "outputs": [
    {
     "data": {
      "text/plain": [
       "12006.2"
      ]
     },
     "execution_count": 83,
     "metadata": {},
     "output_type": "execute_result"
    }
   ],
   "source": [
    "num_emp * .05"
   ]
  },
  {
   "cell_type": "code",
   "execution_count": 92,
   "id": "512e389a",
   "metadata": {},
   "outputs": [],
   "source": [
    "kquery = 'SELECT * FROM salaries WHERE to_date >= NOW() ORDER BY salary DESC LIMIT 12006'"
   ]
  },
  {
   "cell_type": "code",
   "execution_count": 93,
   "id": "850bfd11",
   "metadata": {},
   "outputs": [
    {
     "data": {
      "text/html": [
       "<div>\n",
       "<style scoped>\n",
       "    .dataframe tbody tr th:only-of-type {\n",
       "        vertical-align: middle;\n",
       "    }\n",
       "\n",
       "    .dataframe tbody tr th {\n",
       "        vertical-align: top;\n",
       "    }\n",
       "\n",
       "    .dataframe thead th {\n",
       "        text-align: right;\n",
       "    }\n",
       "</style>\n",
       "<table border=\"1\" class=\"dataframe\">\n",
       "  <thead>\n",
       "    <tr style=\"text-align: right;\">\n",
       "      <th></th>\n",
       "      <th>emp_no</th>\n",
       "      <th>salary</th>\n",
       "      <th>from_date</th>\n",
       "      <th>to_date</th>\n",
       "    </tr>\n",
       "  </thead>\n",
       "  <tbody>\n",
       "    <tr>\n",
       "      <th>0</th>\n",
       "      <td>43624</td>\n",
       "      <td>158220</td>\n",
       "      <td>2002-03-22</td>\n",
       "      <td>9999-01-01</td>\n",
       "    </tr>\n",
       "    <tr>\n",
       "      <th>1</th>\n",
       "      <td>254466</td>\n",
       "      <td>156286</td>\n",
       "      <td>2001-08-04</td>\n",
       "      <td>9999-01-01</td>\n",
       "    </tr>\n",
       "    <tr>\n",
       "      <th>2</th>\n",
       "      <td>47978</td>\n",
       "      <td>155709</td>\n",
       "      <td>2002-07-14</td>\n",
       "      <td>9999-01-01</td>\n",
       "    </tr>\n",
       "    <tr>\n",
       "      <th>3</th>\n",
       "      <td>253939</td>\n",
       "      <td>155513</td>\n",
       "      <td>2002-04-11</td>\n",
       "      <td>9999-01-01</td>\n",
       "    </tr>\n",
       "    <tr>\n",
       "      <th>4</th>\n",
       "      <td>109334</td>\n",
       "      <td>155190</td>\n",
       "      <td>2002-02-11</td>\n",
       "      <td>9999-01-01</td>\n",
       "    </tr>\n",
       "    <tr>\n",
       "      <th>...</th>\n",
       "      <td>...</td>\n",
       "      <td>...</td>\n",
       "      <td>...</td>\n",
       "      <td>...</td>\n",
       "    </tr>\n",
       "    <tr>\n",
       "      <th>12001</th>\n",
       "      <td>448855</td>\n",
       "      <td>104232</td>\n",
       "      <td>2002-07-08</td>\n",
       "      <td>9999-01-01</td>\n",
       "    </tr>\n",
       "    <tr>\n",
       "      <th>12002</th>\n",
       "      <td>409170</td>\n",
       "      <td>104230</td>\n",
       "      <td>2002-01-28</td>\n",
       "      <td>9999-01-01</td>\n",
       "    </tr>\n",
       "    <tr>\n",
       "      <th>12003</th>\n",
       "      <td>72377</td>\n",
       "      <td>104229</td>\n",
       "      <td>2002-06-30</td>\n",
       "      <td>9999-01-01</td>\n",
       "    </tr>\n",
       "    <tr>\n",
       "      <th>12004</th>\n",
       "      <td>51196</td>\n",
       "      <td>104229</td>\n",
       "      <td>2001-08-27</td>\n",
       "      <td>9999-01-01</td>\n",
       "    </tr>\n",
       "    <tr>\n",
       "      <th>12005</th>\n",
       "      <td>208337</td>\n",
       "      <td>104228</td>\n",
       "      <td>2002-03-11</td>\n",
       "      <td>9999-01-01</td>\n",
       "    </tr>\n",
       "  </tbody>\n",
       "</table>\n",
       "<p>12006 rows × 4 columns</p>\n",
       "</div>"
      ],
      "text/plain": [
       "       emp_no  salary   from_date     to_date\n",
       "0       43624  158220  2002-03-22  9999-01-01\n",
       "1      254466  156286  2001-08-04  9999-01-01\n",
       "2       47978  155709  2002-07-14  9999-01-01\n",
       "3      253939  155513  2002-04-11  9999-01-01\n",
       "4      109334  155190  2002-02-11  9999-01-01\n",
       "...       ...     ...         ...         ...\n",
       "12001  448855  104232  2002-07-08  9999-01-01\n",
       "12002  409170  104230  2002-01-28  9999-01-01\n",
       "12003   72377  104229  2002-06-30  9999-01-01\n",
       "12004   51196  104229  2001-08-27  9999-01-01\n",
       "12005  208337  104228  2002-03-11  9999-01-01\n",
       "\n",
       "[12006 rows x 4 columns]"
      ]
     },
     "execution_count": 93,
     "metadata": {},
     "output_type": "execute_result"
    }
   ],
   "source": [
    "top5 = pd.read_sql(kquery, url)\n",
    "top5"
   ]
  },
  {
   "cell_type": "code",
   "execution_count": 97,
   "id": "34afaf4e",
   "metadata": {},
   "outputs": [
    {
     "data": {
      "text/plain": [
       "113408.81750791271"
      ]
     },
     "execution_count": 97,
     "metadata": {},
     "output_type": "execute_result"
    }
   ],
   "source": [
    "top5.salary.mean()\n",
    "#average salary for top 5% earners"
   ]
  },
  {
   "cell_type": "code",
   "execution_count": null,
   "id": "f3d79999",
   "metadata": {},
   "outputs": [],
   "source": []
  }
 ],
 "metadata": {
  "kernelspec": {
   "display_name": "Python 3 (ipykernel)",
   "language": "python",
   "name": "python3"
  },
  "language_info": {
   "codemirror_mode": {
    "name": "ipython",
    "version": 3
   },
   "file_extension": ".py",
   "mimetype": "text/x-python",
   "name": "python",
   "nbconvert_exporter": "python",
   "pygments_lexer": "ipython3",
   "version": "3.9.13"
  }
 },
 "nbformat": 4,
 "nbformat_minor": 5
}
